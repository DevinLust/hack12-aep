{
 "cells": [
  {
   "cell_type": "markdown",
   "metadata": {},
   "source": [
    "# Overview\n",
    "\n",
    "In this notebook we work to ultimately tune an LLM on the specific domain of AEP's workers' comments while on work sites, so that it can predict \n",
    "\n",
    "potentially dangerous scenarios. The end goal is to generate binary results 1 for highly dangerous and 0 for otherwise. The data initially however is \n",
    "\n",
    "unlabeled. The notebook is therefore split into 2 main sections:\n",
    "\n",
    "**Part 1:** Create weak labels based on an aggregation of multiple models' estimates:\n",
    "\n",
    "    -- Tokenization based on keywords to fit into the 13 highly dangerous situations as defined by AEP\n",
    "    -- K-means clustering and manually labeling each cluster\n",
    "    -- Zero-Shot Classification from a the pre-trained BART model\n",
    "\n",
    "**Part 2:** Use the weakly labeled data set to fine tune an existing transformer model on domain-specific knowledge\n",
    "\n",
    "    -- In this case we use the BERT base model as our final inferencing LLM"
   ]
  },
  {
   "cell_type": "code",
   "execution_count": 21,
   "metadata": {},
   "outputs": [
    {
     "name": "stdout",
     "output_type": "stream",
     "text": [
      "0\n",
      "                                                                        0  \\\n",
      "OBSRVTN_NB                                                         330560   \n",
      "DATETIME_DTM                                              3/15/2023 11:01   \n",
      "PNT_NM                  Did you recognize additional slip, trip, or fa...   \n",
      "QUALIFIER_TXT                                    Awareness of environment   \n",
      "PNT_ATRISKNOTES_TX      [NAME] was working a near by cliff that had ab...   \n",
      "PNT_ATRISKFOLWUPNTS_TX                                                NaN   \n",
      "\n",
      "                                                                        1  \\\n",
      "OBSRVTN_NB                                                         164330   \n",
      "DATETIME_DTM                                               7/9/2019 10:00   \n",
      "PNT_NM                                        Vehicle Operating Condition   \n",
      "QUALIFIER_TXT                         Other - Vehicle Operating Condition   \n",
      "PNT_ATRISKNOTES_TX      [NAME] trucks with cut out bumbers need a hitc...   \n",
      "PNT_ATRISKFOLWUPNTS_TX                                                NaN   \n",
      "\n",
      "                                                                        2  \\\n",
      "OBSRVTN_NB                                                         265239   \n",
      "DATETIME_DTM                                               8/1/2022 10:15   \n",
      "PNT_NM                                       Suspended Load/Overhead Work   \n",
      "QUALIFIER_TXT                        Other - Suspended Load/Overhead Work   \n",
      "PNT_ATRISKNOTES_TX      Employee rigged a concrete culvert to be off l...   \n",
      "PNT_ATRISKFOLWUPNTS_TX  Coached employee that once he had the culverts...   \n",
      "\n",
      "                                                                        3  \\\n",
      "OBSRVTN_NB                                                         404438   \n",
      "DATETIME_DTM                                             10/18/2023 12:06   \n",
      "PNT_NM                                                    PPE - Workforce   \n",
      "QUALIFIER_TXT                                       Other - PPE Workforce   \n",
      "PNT_ATRISKNOTES_TX      [NAME] tender was not wearing his Hardhat. I r...   \n",
      "PNT_ATRISKFOLWUPNTS_TX                                                NaN   \n",
      "\n",
      "                                                                        4  \n",
      "OBSRVTN_NB                                                          83172  \n",
      "DATETIME_DTM                                               3/3/2021 11:00  \n",
      "PNT_NM                                              Climbing - Procedures  \n",
      "QUALIFIER_TXT            Was a drop zone established, and clearly marked?  \n",
      "PNT_ATRISKNOTES_TX      A drop zone was not clearly marked by the crew...  \n",
      "PNT_ATRISKFOLWUPNTS_TX                                                NaN  \n"
     ]
    }
   ],
   "source": [
    "# import csv as pandas df\n",
    "import pandas as pd\n",
    "\n",
    "raw_data = pd.read_csv('CORE_HackOhio_subset_cleaned_downsampled 1.csv')\n",
    "\n",
    "# how many null values in PNT_ATRISKNOTES_TX (comments from workers)\n",
    "print(raw_data['PNT_ATRISKNOTES_TX'].isnull().sum())\n",
    "\n",
    "# print first 5 values to observe data\n",
    "print(raw_data.head().T)\n",
    "\n",
    "\n"
   ]
  },
  {
   "cell_type": "code",
   "execution_count": 22,
   "metadata": {},
   "outputs": [],
   "source": [
    "# convert comments data to a pandas dataframe and prepare for text analysis\n",
    "comments = raw_data['PNT_ATRISKNOTES_TX']\n",
    "\n",
    "# Convert the Series to a DataFrame and name the column 'comment'\n",
    "comments_df = pd.DataFrame(comments)\n",
    "comments_df.columns = ['comment']"
   ]
  },
  {
   "cell_type": "markdown",
   "metadata": {},
   "source": [
    "# Tokenization\n",
    "\n",
    "Here we choose keywords to classify each comment into one of the 13 high energy categories"
   ]
  },
  {
   "cell_type": "code",
   "execution_count": 23,
   "metadata": {},
   "outputs": [],
   "source": [
    "import spacy\n",
    "from snorkel.labeling import labeling_function\n",
    "\n",
    "# Load spaCy language model\n",
    "nlp = spacy.load(\"en_core_web_sm\")\n",
    "\n",
    "# Define the label constants\n",
    "NO_LABEL = -1\n",
    "SUSPENDED_LOAD = 0\n",
    "FALL_FROM_ELEVATION = 1\n",
    "MOBILE_EQUIPMENT = 2\n",
    "MOTOR_VEHICLE_INCIDENT = 3\n",
    "HEAVY_ROTATING_EQUIPMENT = 4\n",
    "HIGH_TEMPERATURE = 5\n",
    "STEAM = 6\n",
    "FIRE = 7\n",
    "EXPLOSION = 8\n",
    "EXCAVATION = 9\n",
    "ELECTRICAL_CONTACT = 10\n",
    "ARC_FLASH = 11\n",
    "HIGH_DOSE_TOXIC = 12\n",
    "\n",
    "@labeling_function()\n",
    "def suspended_load_lf(x):\n",
    "    \"\"\"Detect comments related to 'Suspended load'.\"\"\"\n",
    "    doc = nlp(x)\n",
    "    for token in doc:\n",
    "        if token.lemma_ in {\"suspended\", \"lift\", \"crane\", \"hoist\", \"load\"}:\n",
    "            return SUSPENDED_LOAD\n",
    "    return NO_LABEL\n",
    "\n",
    "\n",
    "@labeling_function()\n",
    "def fall_from_elevation_lf(x):\n",
    "    \"\"\"Detect comments related to 'Fall from elevation'.\"\"\"\n",
    "    doc = nlp(x)\n",
    "    for token in doc:\n",
    "        if token.lemma_ in {\"fall\", \"elevation\", \"ladder\", \"scaffold\", \"high\", \"above\"}:\n",
    "            return FALL_FROM_ELEVATION\n",
    "    return NO_LABEL\n",
    "\n",
    "\n",
    "@labeling_function()\n",
    "def mobile_equipment_lf(x):\n",
    "    \"\"\"Detect comments related to 'Mobile equipment with workers on foot'.\"\"\"\n",
    "    doc = nlp(x)\n",
    "    for token in doc:\n",
    "        if token.lemma_ in {\"vehicle\", \"equipment\", \"truck\", \"forklift\", \"mobile\"}:\n",
    "            for child in token.children:\n",
    "                if child.lemma_ in {\"person\", \"worker\", \"foot\"}:\n",
    "                    return MOBILE_EQUIPMENT\n",
    "    return NO_LABEL\n",
    "\n",
    "@labeling_function()\n",
    "def motor_vehicle_incident_lf(x):\n",
    "    \"\"\"Detect comments related to 'Motor vehicle incident (occupant)'.\"\"\"\n",
    "    doc = nlp(x)\n",
    "    for token in doc:\n",
    "        if token.lemma_ in {\"vehicle\", \"car\", \"truck\", \"speed\", \"mph\", \"crash\", \"accident\"}:\n",
    "            return MOTOR_VEHICLE_INCIDENT\n",
    "    return NO_LABEL\n",
    "\n",
    "@labeling_function()\n",
    "def heavy_rotating_equipment_lf(x):\n",
    "    \"\"\"Detect comments related to 'Heavy rotating equipment'.\"\"\"\n",
    "    doc = nlp(x)\n",
    "    for token in doc:\n",
    "        if token.lemma_ in {\"rotating\", \"equipment\", \"machine\", \"motor\", \"engine\"}:\n",
    "            return HEAVY_ROTATING_EQUIPMENT\n",
    "    return NO_LABEL\n",
    "\n",
    "@labeling_function()\n",
    "def high_temperature_lf(x):\n",
    "    \"\"\"Detect comments related to 'High temperature'.\"\"\"\n",
    "    doc = nlp(x)\n",
    "    for token in doc:\n",
    "        if token.lemma_ in {\"temperature\", \"heat\", \"burn\", \"f\", \"degree\", \"hot\", \"exposure\"}:\n",
    "            return HIGH_TEMPERATURE\n",
    "    return NO_LABEL\n",
    "\n",
    "@labeling_function()\n",
    "def steam_lf(x):\n",
    "    \"\"\"Detect comments related to 'Steam'.\"\"\"\n",
    "    doc = nlp(x)\n",
    "    for token in doc:\n",
    "        if token.lemma_ in {\"steam\", \"boiler\", \"vapor\"}:\n",
    "            return STEAM\n",
    "    return NO_LABEL\n",
    "\n",
    "@labeling_function()\n",
    "def fire_with_fuel_lf(x):\n",
    "    \"\"\"Detect comments related to 'Fire with sustained fuel source'.\"\"\"\n",
    "    doc = nlp(x)\n",
    "    for token in doc:\n",
    "        if token.lemma_ in {\"fire\", \"fuel\", \"burn\", \"flame\"}:\n",
    "            return FIRE\n",
    "    return NO_LABEL\n",
    "\n",
    "@labeling_function()\n",
    "def explosion_lf(x):\n",
    "    \"\"\"Detect comments related to 'Explosion'.\"\"\"\n",
    "    doc = nlp(x)\n",
    "    for token in doc:\n",
    "        if token.lemma_ in {\"explosion\", \"blast\", \"detonate\", \"bomb\"}:\n",
    "            return EXPLOSION\n",
    "    return NO_LABEL\n",
    "\n",
    "@labeling_function()\n",
    "def excavation_trench_lf(x):\n",
    "    \"\"\"Detect comments related to 'Excavation or trench'.\"\"\"\n",
    "    doc = nlp(x)\n",
    "    for token in doc:\n",
    "        if token.lemma_ in {\"trench\", \"excavation\", \"dig\", \"earth\", \"soil\"}:\n",
    "            return EXCAVATION\n",
    "    return NO_LABEL\n",
    "\n",
    "@labeling_function()\n",
    "def electrical_contact_lf(x):\n",
    "    \"\"\"Detect comments related to 'Electrical contact with source'.\"\"\"\n",
    "    doc = nlp(x)\n",
    "    for token in doc:\n",
    "        if token.lemma_ in {\"electric\", \"shock\", \"voltage\", \"contact\"}:\n",
    "            return ELECTRICAL_CONTACT\n",
    "    return NO_LABEL\n",
    "\n",
    "@labeling_function()\n",
    "def arc_flash_lf(x):\n",
    "    \"\"\"Detect comments related to 'Arc flash'.\"\"\"\n",
    "    doc = nlp(x)\n",
    "    for token in doc:\n",
    "        if token.lemma_ in {\"arc\", \"flash\", \"electric\", \"voltage\"}:\n",
    "            return ARC_FLASH\n",
    "    return NO_LABEL\n",
    "\n",
    "@labeling_function()\n",
    "def toxic_chemical_radiation_lf(x):\n",
    "    \"\"\"Detect comments related to 'High dose of toxic chemical or radiation'.\"\"\"\n",
    "    doc = nlp(x)\n",
    "    for token in doc:\n",
    "        if token.lemma_ in {\"toxic\", \"chemical\", \"radiation\", \"exposure\", \"hazard\"}:\n",
    "            return HIGH_DOSE_TOXIC\n",
    "    return NO_LABEL\n",
    "\n"
   ]
  },
  {
   "cell_type": "code",
   "execution_count": 24,
   "metadata": {},
   "outputs": [
    {
     "name": "stdout",
     "output_type": "stream",
     "text": [
      "                                             comment  tokenizing_result\n",
      "0  [NAME] was working a near by cliff that had ab...                  1\n",
      "1  [NAME] trucks with cut out bumbers need a hitc...                  1\n",
      "2  Employee rigged a concrete culvert to be off l...                  1\n",
      "3  [NAME] tender was not wearing his Hardhat. I r...                  0\n",
      "4  A drop zone was not clearly marked by the crew...                  0\n"
     ]
    }
   ],
   "source": [
    "import spacy\n",
    "\n",
    "# Load spaCy language model\n",
    "nlp = spacy.load(\"en_core_web_sm\")\n",
    "\n",
    "# Define the label constants (danger categories)\n",
    "NO_LABEL = -1\n",
    "DANGER_LABELS = [\n",
    "    SUSPENDED_LOAD, FALL_FROM_ELEVATION, MOBILE_EQUIPMENT, MOTOR_VEHICLE_INCIDENT, \n",
    "    HEAVY_ROTATING_EQUIPMENT, HIGH_TEMPERATURE, STEAM, FIRE, EXPLOSION, \n",
    "    EXCAVATION, ELECTRICAL_CONTACT, ARC_FLASH, HIGH_DOSE_TOXIC\n",
    "]\n",
    "\n",
    "\n",
    "# List of all labeling functions\n",
    "lfs = [suspended_load_lf, fall_from_elevation_lf, mobile_equipment_lf, motor_vehicle_incident_lf, \n",
    "       heavy_rotating_equipment_lf, high_temperature_lf, steam_lf, fire_with_fuel_lf, explosion_lf,\n",
    "       excavation_trench_lf, electrical_contact_lf, arc_flash_lf, toxic_chemical_radiation_lf]\n",
    "\n",
    "# Function to apply the labeling functions and check if any of them return a danger category\n",
    "def check_if_danger(comment):\n",
    "    \"\"\"Applies the labeling functions to a comment and returns 1 if any predict danger, otherwise 0.\"\"\"\n",
    "    for lf in lfs:\n",
    "        label = lf(comment)\n",
    "        if label in DANGER_LABELS:\n",
    "            return 1  # Return 1 (dangerous) if any labeling function returns a dangerous label\n",
    "    return 0  # Return 0 (not dangerous) if none of the labeling functions detect danger\n",
    "\n",
    "# Apply the tokenizing functions to each comment in the DataFrame\n",
    "comments_df['tokenizing_result'] = comments_df['comment'].apply(lambda x: check_if_danger(x))\n",
    "\n",
    "# Display the DataFrame with the new tokenizing_result column\n",
    "print(comments_df[['comment', 'tokenizing_result']].head())\n"
   ]
  },
  {
   "cell_type": "markdown",
   "metadata": {},
   "source": [
    "# Clustering\n",
    "\n",
    "In this step we evaluate the best k value to use in order to cluster, and once grouped we manually look at a random sample of comments for each cluster. \n",
    "\n",
    "The value chosen is applied to all comments in the cluster"
   ]
  },
  {
   "cell_type": "code",
   "execution_count": 14,
   "metadata": {},
   "outputs": [],
   "source": [
    "from sentence_transformers import SentenceTransformer\n",
    "from sklearn.cluster import KMeans\n",
    "\n",
    "# Load a pre-trained sentence transformer model\n",
    "model = SentenceTransformer('all-mpnet-base-v2')\n",
    "\n",
    "# Embed the comments\n",
    "comment_embeddings = model.encode(comments_df['comment'].tolist(), convert_to_tensor=True)\n",
    "\n",
    "# Move the tensor to the CPU and convert it to a NumPy array\n",
    "comment_embeddings_cpu = comment_embeddings.cpu().numpy()"
   ]
  },
  {
   "cell_type": "code",
   "execution_count": 6,
   "metadata": {},
   "outputs": [
    {
     "data": {
      "image/png": "[encoded data removed]",
      "text/plain": [
       "<Figure size 640x480 with 1 Axes>"
      ]
     },
     "metadata": {},
     "output_type": "display_data"
    }
   ],
   "source": [
    "import matplotlib.pyplot as plt\n",
    "\n",
    "# Define a range of possible number of clusters\n",
    "cluster_range = range(1, 30)\n",
    "inertia_values = []\n",
    "\n",
    "# Perform KMeans clustering for each cluster count\n",
    "for num_clusters in cluster_range:\n",
    "    kmeans = KMeans(n_clusters=num_clusters, random_state=42)\n",
    "    kmeans.fit(comment_embeddings_cpu)\n",
    "    inertia_values.append(kmeans.inertia_)\n",
    "\n",
    "# Plot the inertia values to find the \"elbow\"\n",
    "plt.plot(cluster_range, inertia_values, marker='o')\n",
    "plt.title('Elbow Method for Optimal Clusters')\n",
    "plt.xlabel('Number of clusters')\n",
    "plt.ylabel('Inertia (Sum of squared distances)')\n",
    "plt.show()\n",
    "\n",
    "\n"
   ]
  },
  {
   "cell_type": "markdown",
   "metadata": {},
   "source": [
    "We can see from the plot above, no clear elbow is found. This tells us in the future it may be beneficial to cluster or embed using different techniques."
   ]
  },
  {
   "cell_type": "code",
   "execution_count": 17,
   "metadata": {},
   "outputs": [],
   "source": [
    "# Define the number of clusters\n",
    "num_clusters = 15 # close to number of danger categories\n",
    "\n",
    "# Apply KMeans clustering to the comment embeddings\n",
    "kmeans = KMeans(n_clusters=num_clusters, random_state=42)\n",
    "kmeans.fit(comment_embeddings_cpu)\n",
    "\n",
    "# Get the cluster labels for each comment\n",
    "cluster_labels = kmeans.labels_\n",
    "\n",
    "# Add the cluster labels to the DataFrame\n",
    "comments_df['cluster'] = cluster_labels\n",
    "\n"
   ]
  },
  {
   "cell_type": "code",
   "execution_count": null,
   "metadata": {},
   "outputs": [],
   "source": [
    "# Function to sample 5 random comments from each cluster for manual review\n",
    "def sample_comments_by_cluster(df, num_clusters=15, sample_size=8):\n",
    "    cluster_samples = {}\n",
    "    \n",
    "    # Loop through each cluster and sample 5 random comments\n",
    "    for cluster_num in range(num_clusters):\n",
    "        cluster_df = df[df['cluster'] == cluster_num]\n",
    "        sampled_comments = cluster_df['comment'].sample(n=sample_size, random_state=42)\n",
    "        cluster_samples[cluster_num] = sampled_comments.tolist()\n",
    "    \n",
    "    return cluster_samples\n",
    "\n",
    "# Sample 5 random comments from each cluster\n",
    "cluster_samples = sample_comments_by_cluster(comments_df)\n",
    "\n",
    "# Display the comments for manual labeling\n",
    "for cluster, comments in cluster_samples.items():\n",
    "    print(f\"\\nCluster {cluster} Sample Comments:\")\n",
    "    for i, comment in enumerate(comments, 1):\n",
    "        print(f\"{i}. {comment}\")\n"
   ]
  },
  {
   "cell_type": "code",
   "execution_count": null,
   "metadata": {},
   "outputs": [],
   "source": [
    "# Dictionary to store the manually assigned danger labels (0 = not dangerous, 1 = dangerous)\n",
    "assigned_danger_labels = {}\n",
    "\n",
    "# Loop through the clusters and assign 0 or 1 based on manual review\n",
    "for cluster_num in range(num_clusters):\n",
    "    print(f\"\\nCluster {cluster_num} Sample Comments:\")\n",
    "    for i, comment in enumerate(cluster_samples[cluster_num], 1):\n",
    "        print(f\"{i}. {comment}\")\n",
    "    \n",
    "    # Manually assign 0 or 1 to the entire cluster based on the sampled comments\n",
    "    label = int(input(f\"Assign label to Cluster {cluster_num} (0 = not dangerous, 1 = dangerous): \"))\n",
    "    assigned_danger_labels[cluster_num] = label\n"
   ]
  },
  {
   "cell_type": "code",
   "execution_count": 20,
   "metadata": {},
   "outputs": [
    {
     "name": "stdout",
     "output_type": "stream",
     "text": [
      "                                             comment  cluster  danger_label\n",
      "0  [NAME] was working a near by cliff that had ab...        6           0.0\n",
      "1  [NAME] trucks with cut out bumbers need a hitc...       13           0.0\n",
      "2  Employee rigged a concrete culvert to be off l...        6           0.0\n",
      "3  [NAME] tender was not wearing his Hardhat. I r...       10           1.0\n",
      "4  A drop zone was not clearly marked by the crew...       14           1.0\n"
     ]
    }
   ],
   "source": [
    "# Assign the manually selected danger label to each comment in the DataFrame based on the cluster\n",
    "for cluster_num, label in assigned_danger_labels.items():\n",
    "    comments_df.loc[comments_df['cluster'] == cluster_num, 'danger_label'] = label\n",
    "\n",
    "# View the first few rows with the manually assigned labels\n",
    "print(comments_df[['comment', 'cluster', 'danger_label']].head())\n"
   ]
  },
  {
   "cell_type": "markdown",
   "metadata": {},
   "source": [
    "# Zero Shot with BART\n",
    "\n",
    "BART is well suited for unlabeled text classification problems. "
   ]
  },
  {
   "cell_type": "code",
   "execution_count": 3,
   "metadata": {},
   "outputs": [
    {
     "name": "stderr",
     "output_type": "stream",
     "text": [
      "/Users/jacobbailey/Desktop/hack12/.conda/lib/python3.11/site-packages/tqdm/auto.py:21: TqdmWarning: IProgress not found. Please update jupyter and ipywidgets. See https://ipywidgets.readthedocs.io/en/stable/user_install.html\n",
      "  from .autonotebook import tqdm as notebook_tqdm\n",
      "All PyTorch model weights were used when initializing TFBartForConditionalGeneration.\n",
      "\n",
      "All the weights of TFBartForConditionalGeneration were initialized from the PyTorch model.\n",
      "If your task is similar to the task the model of the checkpoint was trained on, you can already use TFBartForConditionalGeneration for predictions without further training.\n"
     ]
    }
   ],
   "source": [
    "from transformers import TFBartForConditionalGeneration, BartTokenizer\n",
    "\n",
    "# Load BART model and tokenizer\n",
    "model_name = \"facebook/bart-base\" \n",
    "tokenizer = BartTokenizer.from_pretrained(model_name)\n",
    "model = TFBartForConditionalGeneration.from_pretrained(model_name)\n"
   ]
  },
  {
   "cell_type": "code",
   "execution_count": 4,
   "metadata": {},
   "outputs": [],
   "source": [
    "def generate_prompt(comment):\n",
    "    \"\"\"\n",
    "    Generate a prompt asking BART to classify the comment.\n",
    "    \"\"\"\n",
    "    return f\"Classify the following comment as either 'high-risk' (risk of injury or death) or 'low-risk': {comment}\"\n"
   ]
  },
  {
   "cell_type": "code",
   "execution_count": 5,
   "metadata": {},
   "outputs": [],
   "source": [
    "def classify_comment(comment):\n",
    "    \"\"\"\n",
    "    Classify the input comment using BART and return a probability score between 0 and 1.\n",
    "    \"\"\"\n",
    "    # Generate the prompt for the comment\n",
    "    prompt = generate_prompt(comment)\n",
    "    \n",
    "    # Tokenize the input text\n",
    "    inputs = tokenizer(prompt, return_tensors=\"tf\", max_length=512, truncation=True)\n",
    "    \n",
    "    # Generate the output from BART\n",
    "    outputs = model.generate(inputs[\"input_ids\"], max_length=50)\n",
    "    \n",
    "    # Decode the output text\n",
    "    output_text = tokenizer.decode(outputs[0], skip_special_tokens=True)\n",
    "    \n",
    "    # Check if BART generated \"high-risk\" in the output\n",
    "    if \"high-risk\" in output_text:\n",
    "        return 1.0  # High probability for high-risk\n",
    "    else:\n",
    "        return 0.0  # Low probability for low-risk\n"
   ]
  },
  {
   "cell_type": "code",
   "execution_count": null,
   "metadata": {},
   "outputs": [],
   "source": [
    "# apply BART to every comment in the dataframe and create new column with results\n",
    "comments_df['bart_result'] = comments_df['comment'].apply(lambda x: classify_comment(x))\n"
   ]
  },
  {
   "cell_type": "markdown",
   "metadata": {},
   "source": [
    "## Combine models to create final label\n",
    "\n",
    "The BART model was taking too long, however if we had more time, we would have implemented it in the label estimations the same way we do with \n",
    "\n",
    "clustering and tokenizing below."
   ]
  },
  {
   "cell_type": "code",
   "execution_count": 33,
   "metadata": {},
   "outputs": [
    {
     "name": "stdout",
     "output_type": "stream",
     "text": [
      "Index(['comment', 'tokenizing_result', 'cluster', 'danger_label',\n",
      "       'final_result'],\n",
      "      dtype='object')\n",
      "0    0.5\n",
      "1    0.5\n",
      "2    0.5\n",
      "3    0.5\n",
      "4    0.5\n",
      "Name: final_result, dtype: float64\n",
      "0    0.451206\n",
      "1    0.574114\n",
      "2    0.529979\n",
      "3    0.526583\n",
      "4    0.588115\n",
      "Name: final_result, dtype: float64\n"
     ]
    },
    {
     "data": {
      "text/plain": [
       "<Axes: >"
      ]
     },
     "execution_count": 33,
     "metadata": {},
     "output_type": "execute_result"
    },
    {
     "data": {
      "image/png": "[encoded data removed]",
      "text/plain": [
       "<Figure size 640x480 with 1 Axes>"
      ]
     },
     "metadata": {},
     "output_type": "display_data"
    }
   ],
   "source": [
    "# print head of comments df\n",
    "print(comments_df.columns)\n",
    "\n",
    "# for each observation in the comments df, if the both the tokenizing result and clustering result are 1, set final result column to 1. If one of them are 1, set to 0.5, otherwise 0\n",
    "comments_df['final_result'] = comments_df.apply(lambda x: 1 if x['tokenizing_result'] == 1 and x['danger_label'] == 1 else 0.5 if x['tokenizing_result'] == 1 or x['danger_label'] == 1 else 0, axis=1)\n",
    "\n",
    "# print the first 5 vals of final_result\n",
    "print(comments_df['final_result'].head())\n",
    "\n",
    "# add some noise to each final result, results should be between 0 and 1\n",
    "import random\n",
    "comments_df['final_result'] = comments_df['final_result'].apply(lambda x: x + random.uniform(0.05, 0.15) if x == 0 else x - random.uniform(0.05, 0.15) if x == 1 else x + random.uniform(-0.1, 0.1))\n",
    "\n",
    "# print the first 5 vals of final_result\n",
    "print(comments_df['final_result'].head())\n",
    "\n",
    "# print histogram of final result with 7 bins\n",
    "comments_df['final_result'].hist(bins=7)\n"
   ]
  },
  {
   "cell_type": "markdown",
   "metadata": {},
   "source": [
    "We know from domain experience that the high danger risks are relatively rare. The histogram above gives us a clear split for the classication threshold, counting those above 0.7 as dangerous. This threshold results in around 3300 of the 20000 observations are marked as \"high value\"."
   ]
  },
  {
   "cell_type": "markdown",
   "metadata": {},
   "source": [
    "# Fine Tuning the Final Transformer Model\n",
    "\n",
    "Using our fully labeled data set we can now fine tune a pre trained transformer model. BERT will be used here which is good at learning the nuances of specific types of text like we have here, where all comments come from a similar source."
   ]
  },
  {
   "cell_type": "code",
   "execution_count": 26,
   "metadata": {},
   "outputs": [
    {
     "name": "stdout",
     "output_type": "stream",
     "text": [
      "Training set: 14000\n",
      "Validation set: 3000\n",
      "Test set: 3000\n"
     ]
    }
   ],
   "source": [
    "from sklearn.model_selection import train_test_split\n",
    "\n",
    "\n",
    "# Split the dataset into training, validation, and test sets\n",
    "train_df, temp_df = train_test_split(comments_df, test_size=0.3, random_state=42)\n",
    "val_df, test_df = train_test_split(temp_df, test_size=0.5, random_state=42)\n",
    "\n",
    "print(f\"Training set: {len(train_df)}\")\n",
    "print(f\"Validation set: {len(val_df)}\")\n",
    "print(f\"Test set: {len(test_df)}\")"
   ]
  },
  {
   "cell_type": "code",
   "execution_count": 35,
   "metadata": {},
   "outputs": [
    {
     "name": "stderr",
     "output_type": "stream",
     "text": [
      "All PyTorch model weights were used when initializing TFBertForSequenceClassification.\n",
      "\n",
      "Some weights or buffers of the TF 2.0 model TFBertForSequenceClassification were not initialized from the PyTorch model and are newly initialized: ['classifier.weight', 'classifier.bias']\n",
      "You should probably TRAIN this model on a down-stream task to be able to use it for predictions and inference.\n"
     ]
    }
   ],
   "source": [
    "from transformers import BertTokenizer, TFBertForSequenceClassification\n",
    "import tensorflow as tf\n",
    "\n",
    "# Load pre-trained BERT tokenizer and model\n",
    "tokenizer = BertTokenizer.from_pretrained('bert-base-uncased')\n",
    "bert_model = TFBertForSequenceClassification.from_pretrained('bert-base-uncased', num_labels=1)\n",
    "\n",
    "# Tokenize function for the dataset\n",
    "def tokenize(sentences, tokenizer, max_length=128):\n",
    "    return tokenizer(\n",
    "        list(sentences),\n",
    "        max_length=max_length,\n",
    "        padding='max_length',\n",
    "        truncation=True,\n",
    "        return_tensors='tf'\n",
    "    )\n",
    "\n",
    "# Tokenize the datasets\n",
    "train_encodings = tokenize(train_df['comment'], tokenizer)\n",
    "val_encodings = tokenize(val_df['comment'], tokenizer)\n",
    "test_encodings = tokenize(test_df['comment'], tokenizer)\n",
    "\n",
    "# Convert target values (final_result) to float tensors\n",
    "train_labels = tf.convert_to_tensor(train_df['final_result'].values, dtype=tf.float32)\n",
    "val_labels = tf.convert_to_tensor(val_df['final_result'].values, dtype=tf.float32)\n",
    "test_labels = tf.convert_to_tensor(test_df['final_result'].values, dtype=tf.float32)\n"
   ]
  },
  {
   "cell_type": "code",
   "execution_count": 36,
   "metadata": {},
   "outputs": [
    {
     "name": "stderr",
     "output_type": "stream",
     "text": [
      "WARNING:absl:At this time, the v2.11+ optimizer `tf.keras.optimizers.Adam` runs slowly on M1/M2 Macs, please use the legacy TF-Keras optimizer instead, located at `tf.keras.optimizers.legacy.Adam`.\n"
     ]
    },
    {
     "name": "stdout",
     "output_type": "stream",
     "text": [
      "Epoch 1/3\n",
      "WARNING:tensorflow:AutoGraph could not transform <function infer_framework at 0x2d090b380> and will run it as-is.\n",
      "Cause: for/else statement not yet supported\n",
      "To silence this warning, decorate the function with @tf.autograph.experimental.do_not_convert\n"
     ]
    },
    {
     "name": "stderr",
     "output_type": "stream",
     "text": [
      "WARNING:tensorflow:AutoGraph could not transform <function infer_framework at 0x2d090b380> and will run it as-is.\n",
      "Cause: for/else statement not yet supported\n",
      "To silence this warning, decorate the function with @tf.autograph.experimental.do_not_convert\n"
     ]
    },
    {
     "name": "stdout",
     "output_type": "stream",
     "text": [
      "WARNING: AutoGraph could not transform <function infer_framework at 0x2d090b380> and will run it as-is.\n",
      "Cause: for/else statement not yet supported\n",
      "To silence this warning, decorate the function with @tf.autograph.experimental.do_not_convert\n",
      "875/875 [==============================] - 2362s 3s/step - loss: 0.0499 - rmse: 0.2233 - val_loss: 0.0293 - val_rmse: 0.1711\n",
      "Epoch 2/3\n",
      "875/875 [==============================] - 2083s 2s/step - loss: 0.0269 - rmse: 0.1639 - val_loss: 0.0258 - val_rmse: 0.1607\n",
      "Epoch 3/3\n",
      "875/875 [==============================] - 2102s 2s/step - loss: 0.0186 - rmse: 0.1364 - val_loss: 0.0241 - val_rmse: 0.1551\n"
     ]
    }
   ],
   "source": [
    "# Define metrics and compile the model\n",
    "bert_model.compile(\n",
    "    optimizer=tf.keras.optimizers.Adam(learning_rate=2e-5),\n",
    "    loss=tf.keras.losses.MeanSquaredError(),\n",
    "    metrics=[tf.keras.metrics.RootMeanSquaredError(name='rmse')]\n",
    ")\n",
    "\n",
    "# Create TensorFlow dataset for training and validation\n",
    "train_dataset = tf.data.Dataset.from_tensor_slices((\n",
    "    dict(train_encodings),\n",
    "    train_labels\n",
    ")).shuffle(1000).batch(16)\n",
    "\n",
    "val_dataset = tf.data.Dataset.from_tensor_slices((\n",
    "    dict(val_encodings),\n",
    "    val_labels\n",
    ")).batch(16)\n",
    "\n",
    "# Train the model\n",
    "history = bert_model.fit(\n",
    "    train_dataset,\n",
    "    validation_data=val_dataset,\n",
    "    epochs=3\n",
    ")\n"
   ]
  },
  {
   "cell_type": "code",
   "execution_count": 37,
   "metadata": {},
   "outputs": [
    {
     "data": {
      "image/png": "[encoded data removed]",
      "text/plain": [
       "<Figure size 640x480 with 1 Axes>"
      ]
     },
     "metadata": {},
     "output_type": "display_data"
    },
    {
     "name": "stdout",
     "output_type": "stream",
     "text": [
      "188/188 [==============================] - 157s 836ms/step - loss: 0.0223 - rmse: 0.1493\n",
      "Test RMSE: 0.14933954179286957\n"
     ]
    }
   ],
   "source": [
    "import matplotlib.pyplot as plt\n",
    "\n",
    "# Plot loss and validation loss to check for overfitting\n",
    "plt.plot(history.history['loss'], label='Training Loss')\n",
    "plt.plot(history.history['val_loss'], label='Validation Loss')\n",
    "plt.xlabel('Epoch')\n",
    "plt.ylabel('Loss')\n",
    "plt.legend()\n",
    "plt.show()\n",
    "\n",
    "# Test the model\n",
    "test_dataset = tf.data.Dataset.from_tensor_slices((\n",
    "    dict(test_encodings),\n",
    "    test_labels\n",
    ")).batch(16)\n",
    "\n",
    "test_loss, test_rmse = bert_model.evaluate(test_dataset)\n",
    "print(f'Test RMSE: {test_rmse}')\n"
   ]
  },
  {
   "cell_type": "markdown",
   "metadata": {},
   "source": [
    "From the graph above it seems we may be overfitting starting at around epoch 1.25, which shows early stopping or other forms of regularization may help."
   ]
  },
  {
   "cell_type": "markdown",
   "metadata": {},
   "source": [
    "# Measuring Accuracy"
   ]
  },
  {
   "cell_type": "code",
   "execution_count": null,
   "metadata": {},
   "outputs": [],
   "source": [
    "# Baseline RMSE using mean of the target variable\n",
    "mean_baseline = train_df['final_result'].mean()\n",
    "mean_baseline_rmse = ((test_df['final_result'] - mean_baseline) ** 2).mean() ** 0.5\n",
    "print(f\"Mean Baseline RMSE: {mean_baseline_rmse}\")\n"
   ]
  },
  {
   "cell_type": "markdown",
   "metadata": {},
   "source": [
    "## Saving the model for inference with our mobile app"
   ]
  },
  {
   "cell_type": "code",
   "execution_count": 60,
   "metadata": {},
   "outputs": [
    {
     "name": "stderr",
     "output_type": "stream",
     "text": [
      "/Users/jacobbailey/Desktop/hack12/.conda/lib/python3.11/site-packages/transformers/configuration_utils.py:384: UserWarning: Some non-default generation parameters are set in the model config. These should go into either a) `model.generation_config` (as opposed to `model.config`); OR b) a GenerationConfig file (https://huggingface.co/docs/transformers/generation_strategies#save-a-custom-decoding-strategy-with-your-model).This warning will become an exception in the future.\n",
      "Non-default generation parameters: {'early_stopping': True, 'num_beams': 4, 'no_repeat_ngram_size': 3, 'forced_bos_token_id': 0}\n",
      "  warnings.warn(\n"
     ]
    }
   ],
   "source": [
    "# output the trained model and the comment df\n",
    "model.save_pretrained(\"model_directory\")\n",
    "comments_df.to_csv('comments_df.csv', index=False)\n"
   ]
  },
  {
   "cell_type": "markdown",
   "metadata": {},
   "source": [
    "# Final Comments\n",
    "\n",
    "Overall this was a great learning opportunity to become more familiarity with LLMs. It ended up posing a lot more questions than we anticipated as far as what may be the best combination of models to work well with unlabeled free form data. We wish we could have done more such as comparing our labeling model to something like Llama, and adding the BART labels into the mix however with just 24 hours we did not have enough time to explore this."
   ]
  }
 ],
 "metadata": {
  "kernelspec": {
   "display_name": "Python 3",
   "language": "python",
   "name": "python3"
  },
  "language_info": {
   "codemirror_mode": {
    "name": "ipython",
    "version": 3
   },
   "file_extension": ".py",
   "mimetype": "text/x-python",
   "name": "python",
   "nbconvert_exporter": "python",
   "pygments_lexer": "ipython3",
   "version": "3.11.10"
  }
 },
 "nbformat": 4,
 "nbformat_minor": 2
}
